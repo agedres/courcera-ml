{
 "cells": [
  {
   "cell_type": "code",
   "execution_count": 1,
   "metadata": {
    "collapsed": false
   },
   "outputs": [],
   "source": [
    "import numpy as np\n",
    "import matplotlib.pyplot as plt"
   ]
  },
  {
   "cell_type": "code",
   "execution_count": 2,
   "metadata": {
    "collapsed": false
   },
   "outputs": [],
   "source": [
    "#read and plot data\n",
    "data = np.loadtxt('ex1data1.txt')\n",
    "d = np.mat(data[:,0])\n",
    "y = np.mat(data[:,1])\n",
    "\n",
    "plt.plot(d, y, 'gx', mew=1, ms=9)\n",
    "plt.xlabel('population')\n",
    "plt.ylabel('profit')\n",
    "plt.show()"
   ]
  },
  {
   "cell_type": "code",
   "execution_count": 3,
   "metadata": {
    "collapsed": false
   },
   "outputs": [],
   "source": [
    "#get number of examples and add column with ones\n",
    "m = np.shape(d)[1]\n",
    "X = np.concatenate((np.ones((m, 1)), d.T), axis=1)\n",
    "\n",
    "#initialize variables\n",
    "alpha = 0.01\n",
    "iterations = 1500\n",
    "theta = np.mat(np.ones((2, 1)))"
   ]
  },
  {
   "cell_type": "code",
   "execution_count": 4,
   "metadata": {
    "collapsed": false
   },
   "outputs": [],
   "source": [
    "#compute theta and plot \n",
    "errors = np.zeros((iterations))\n",
    "\n",
    "for i in range(iterations):\n",
    "    #compute cost\n",
    "    errors[i] = sum(np.power((X * theta - y.T), 2)) / (2 * m)\n",
    "    #gradient\n",
    "    theta = theta - alpha * (X.T * (X * theta - y.T)) / m\n",
    "\n",
    "dots = np.array([[np.min(d), np.max(d)]])\n",
    "x = np.concatenate((np.ones((1,2)), dots), axis=0)\n",
    "y_ = np.dot(x.T, np.array(theta))\n",
    "\n",
    "plt.plot(d, y, 'gx', mew=1, ms=9)\n",
    "plt.plot(dots[0], y_.T[0])\n",
    "plt.xlabel('population')\n",
    "plt.ylabel('profit')\n",
    "plt.show()"
   ]
  }
 ],
 "metadata": {
  "kernelspec": {
   "display_name": "Python 3",
   "language": "python",
   "name": "python3"
  },
  "language_info": {
   "codemirror_mode": {
    "name": "ipython",
    "version": 3
   },
   "file_extension": ".py",
   "mimetype": "text/x-python",
   "name": "python",
   "nbconvert_exporter": "python",
   "pygments_lexer": "ipython3",
   "version": "3.5.2"
  }
 },
 "nbformat": 4,
 "nbformat_minor": 0
}
