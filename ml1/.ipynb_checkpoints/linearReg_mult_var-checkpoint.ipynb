{
 "cells": [
  {
   "cell_type": "code",
   "execution_count": 1,
   "metadata": {
    "collapsed": true
   },
   "outputs": [],
   "source": [
    "import numpy as np\n",
    "import matplotlib.pyplot as plt\n",
    "from mpl_toolkits.mplot3d import Axes3D"
   ]
  },
  {
   "cell_type": "code",
   "execution_count": 2,
   "metadata": {
    "collapsed": false
   },
   "outputs": [],
   "source": [
    "#read and plot data\n",
    "data = np.loadtxt('ex1data2.txt')\n",
    "X = data[:,0:2]\n",
    "y = data[:,2]\n",
    "\n",
    "m = np.shape(X)[0]\n",
    "\n",
    "fig = plt.figure()\n",
    "ax = fig.add_subplot(111, projection='3d')\n",
    "\n",
    "ax.scatter(X[:,0].T, X[:,0].T, y, c='r', marker='o')\n",
    "ax.set_xlabel('square metres')\n",
    "ax.set_ylabel('number of bedrooms')\n",
    "ax.set_zlabel('price')\n",
    "\n",
    "plt.show()"
   ]
  },
  {
   "cell_type": "code",
   "execution_count": 3,
   "metadata": {
    "collapsed": false
   },
   "outputs": [],
   "source": [
    "#feature normalization\n",
    "mean = np.mean(X, axis=0)\n",
    "s = np.std(X, axis=0)\n",
    "nX = np.array([np.ones((m)), (X[:,0] - mean[0]) / s[0], (X[:,1] - mean[1]) / s[1]]).T"
   ]
  },
  {
   "cell_type": "code",
   "execution_count": 4,
   "metadata": {
    "collapsed": false
   },
   "outputs": [],
   "source": [
    "#initialize variables\n",
    "alpha = 0.01\n",
    "iterations = 3000\n",
    "theta = np.zeros((np.shape(nX)[1], 1))"
   ]
  },
  {
   "cell_type": "code",
   "execution_count": 5,
   "metadata": {
    "collapsed": false
   },
   "outputs": [],
   "source": [
    "#compute theta and plot learning curve\n",
    "errors = np.zeros((iterations))\n",
    "\n",
    "for i in range(iterations):\n",
    "    #compute cost\n",
    "    errors[i] = sum(np.power((np.dot(nX, theta) - y.reshape((m,1))), 2)) / (2 * m)\n",
    "    #gradient\n",
    "    theta = theta - alpha * np.dot(nX.T, np.dot(nX, theta) - y.reshape((m,1))) / m\n",
    "\n",
    "plt.plot(errors, 'b')\n",
    "plt.xlabel('Iterations')\n",
    "plt.ylabel('J(Theta)')\n",
    "plt.show()"
   ]
  },
  {
   "cell_type": "code",
   "execution_count": 6,
   "metadata": {
    "collapsed": true
   },
   "outputs": [],
   "source": [
    "#plot actual data and new computed by theta prices\n",
    "ny = np.dot(nX, theta)\n",
    "\n",
    "fig = plt.figure()\n",
    "ax = fig.add_subplot(111, projection='3d')\n",
    "\n",
    "ax.scatter(X[:,0].T, X[:,0].T, y, c='r', marker='o')\n",
    "ax.scatter(X[:,0].T, X[:,0].T, ny.T[0], c='b', marker='o')\n",
    "ax.set_xlabel('square metres')\n",
    "ax.set_ylabel('number of bedrooms')\n",
    "ax.set_zlabel('price')\n",
    "\n",
    "plt.show()"
   ]
  }
 ],
 "metadata": {
  "kernelspec": {
   "display_name": "Python 3",
   "language": "python",
   "name": "python3"
  },
  "language_info": {
   "codemirror_mode": {
    "name": "ipython",
    "version": 3
   },
   "file_extension": ".py",
   "mimetype": "text/x-python",
   "name": "python",
   "nbconvert_exporter": "python",
   "pygments_lexer": "ipython3",
   "version": "3.5.2"
  }
 },
 "nbformat": 4,
 "nbformat_minor": 0
}
