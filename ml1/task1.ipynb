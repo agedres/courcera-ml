{
 "cells": [
  {
   "cell_type": "code",
   "execution_count": 13,
   "metadata": {
    "collapsed": false
   },
   "outputs": [],
   "source": [
    "import numpy as np\n",
    "import matplotlib.pyplot as plt\n",
    "from scipy.optimize import minimize"
   ]
  },
  {
   "cell_type": "code",
   "execution_count": 14,
   "metadata": {
    "collapsed": false
   },
   "outputs": [],
   "source": [
    "def cost_function(theta, nX, y):\n",
    "    m = np.shape(nX)[0]\n",
    "    theta = theta.reshape(2,1)\n",
    "    J = (sum(np.power((np.dot(nX, theta) - y.reshape((m,1))), 2)) / (2 * m))[0]\n",
    "    g = (np.dot(nX.T, np.dot(nX, theta) - y.reshape((m,1))) / m).reshape(2)\n",
    "    return J, g"
   ]
  },
  {
   "cell_type": "code",
   "execution_count": 15,
   "metadata": {
    "collapsed": false
   },
   "outputs": [],
   "source": [
    "#read and plot data\n",
    "data = np.loadtxt('ex1data1.txt')\n",
    "d = data[:,0]\n",
    "y = data[:,1]\n",
    "\n",
    "plt.plot(d, y, 'gx', mew=1, ms=9)\n",
    "plt.xlabel('population')\n",
    "plt.ylabel('profit')\n",
    "plt.show()"
   ]
  },
  {
   "cell_type": "code",
   "execution_count": 16,
   "metadata": {
    "collapsed": true
   },
   "outputs": [],
   "source": [
    "#get number of examples and add column with ones\n",
    "m = np.shape(d)[0]\n",
    "X = np.array([np.ones((m)), d.T]).T\n",
    "\n",
    "#initialize variables\n",
    "alpha = 0.01\n",
    "initial_theta = np.array(np.ones((X.shape[1])))"
   ]
  },
  {
   "cell_type": "code",
   "execution_count": 17,
   "metadata": {
    "collapsed": false
   },
   "outputs": [],
   "source": [
    "#compute theta and plot \n",
    "res = minimize(cost_function, initial_theta, method='BFGS', jac=True, args=(X, y)).x.reshape((2,1))\n",
    "\n",
    "b_dots = np.array([[1, np.min(d)], [1, np.max(d)]])\n",
    "y_ = np.dot(b_dots, res)\n",
    "\n",
    "plt.plot(d, y, 'gx', mew=1, ms=9)\n",
    "plt.plot(dots[0], y_.T[0])\n",
    "plt.xlabel('population')\n",
    "plt.ylabel('profit')\n",
    "plt.show()"
   ]
  }
 ],
 "metadata": {
  "kernelspec": {
   "display_name": "Python 3",
   "language": "python",
   "name": "python3"
  },
  "language_info": {
   "codemirror_mode": {
    "name": "ipython",
    "version": 3
   },
   "file_extension": ".py",
   "mimetype": "text/x-python",
   "name": "python",
   "nbconvert_exporter": "python",
   "pygments_lexer": "ipython3",
   "version": "3.5.2"
  }
 },
 "nbformat": 4,
 "nbformat_minor": 0
}
