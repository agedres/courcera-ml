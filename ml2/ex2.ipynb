{
 "cells": [
  {
   "cell_type": "code",
   "execution_count": 1,
   "metadata": {
    "collapsed": false
   },
   "outputs": [],
   "source": [
    "import numpy as np\n",
    "import matplotlib.pyplot as plt\n",
    "\n",
    "from sklearn.linear_model import LogisticRegression\n",
    "from sklearn.preprocessing import PolynomialFeatures"
   ]
  },
  {
   "cell_type": "code",
   "execution_count": 2,
   "metadata": {
    "collapsed": true
   },
   "outputs": [],
   "source": [
    "#load data\n",
    "data = np.loadtxt('ex2data2.txt')\n",
    "X = data[:,0:2]\n",
    "m = np.shape(X)[0]\n",
    "y = data[:,2]\n",
    "\n",
    "#separate positive an negative examples\n",
    "xpos = np.array([X[i] for i in range(m) if y[i] == 1])\n",
    "xneg = np.array([X[i] for i in range(m) if y[i] == 0])\n",
    "\n",
    "#plot data\n",
    "plt.plot(xpos[:,0], xpos[:,1], 'g+', mew=1, ms=5, label='admitted')\n",
    "plt.plot(xneg[:,0], xneg[:,1], 'r.', mew=1, ms=5, label='rejected')\n",
    "plt.legend(loc='upper right')\n",
    "plt.show()"
   ]
  },
  {
   "cell_type": "code",
   "execution_count": 3,
   "metadata": {
    "collapsed": false
   },
   "outputs": [
    {
     "name": "stdout",
     "output_type": "stream",
     "text": [
      "accuracy = 83.05%\n"
     ]
    }
   ],
   "source": [
    "#adding polynomial features\n",
    "poly = PolynomialFeatures(6)\n",
    "pX = poly.fit_transform(X)\n",
    "\n",
    "#creating, training and evaluating model\n",
    "model = LogisticRegression()\n",
    "\n",
    "model.fit(pX, y)\n",
    "\n",
    "print(\"accuracy = {:3.2f}%\".format(model.score(pX, y) * 100))"
   ]
  },
  {
   "cell_type": "code",
   "execution_count": 5,
   "metadata": {
    "collapsed": false
   },
   "outputs": [],
   "source": [
    "#plot decision boundary\n",
    "\n",
    "#step size\n",
    "h = .02\n",
    "\n",
    "# create a mesh to plot in\n",
    "x_min, x_max = X[:, 0].min(), X[:, 0].max()\n",
    "y_min, y_max = X[:, 1].min(), X[:, 1].max()\n",
    "xx, yy = np.meshgrid(np.arange(x_min, x_max, h),\n",
    "                     np.arange(y_min, y_max, h))\n",
    "\n",
    "d = poly.fit_transform(np.c_[xx.ravel(), yy.ravel()])\n",
    "\n",
    "# point in the mesh [x_min, m_max]x[y_min, y_max].\n",
    "Z = model.predict(d)\n",
    "\n",
    "# Put the result into a color plot\n",
    "Z = Z.reshape(xx.shape)\n",
    "plt.contour(xx, yy, Z, cmap=plt.cm.Paired)\n",
    "plt.plot(xpos[:,0], xpos[:,1], 'g+', mew=1, ms=5, label='admitted')\n",
    "plt.plot(xneg[:,0], xneg[:,1], 'r.', mew=1, ms=5, label='rejected')\n",
    "plt.legend(loc='upper right')\n",
    "plt.show()"
   ]
  }
 ],
 "metadata": {
  "kernelspec": {
   "display_name": "Python [tfl]",
   "language": "python",
   "name": "Python [tfl]"
  },
  "language_info": {
   "codemirror_mode": {
    "name": "ipython",
    "version": 3
   },
   "file_extension": ".py",
   "mimetype": "text/x-python",
   "name": "python",
   "nbconvert_exporter": "python",
   "pygments_lexer": "ipython3",
   "version": "3.5.2"
  }
 },
 "nbformat": 4,
 "nbformat_minor": 0
}
