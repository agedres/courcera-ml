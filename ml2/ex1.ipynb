{
 "cells": [
  {
   "cell_type": "code",
   "execution_count": 1,
   "metadata": {
    "collapsed": true
   },
   "outputs": [],
   "source": [
    "import numpy as np\n",
    "import matplotlib.pyplot as plt\n",
    "\n",
    "from scipy.optimize import minimize\n",
    "from scipy.special import expit"
   ]
  },
  {
   "cell_type": "code",
   "execution_count": 2,
   "metadata": {
    "collapsed": false
   },
   "outputs": [],
   "source": [
    "def cost_function(theta, X_, y):    \n",
    "    m = np.shape(X_)[0]\n",
    "    n = np.shape(theta)[0]\n",
    "    \n",
    "    theta = theta.reshape((n,1))\n",
    "    h = expit(np.dot(X_, theta))\n",
    "    \n",
    "    #compute cost\n",
    "    J = -np.dot(y.reshape(m), np.log(h)) - np.dot(1 - y.reshape(m), np.log(1 - h))\n",
    "    J = J[0] / m\n",
    "    \n",
    "    #compute gradient\n",
    "    g = np.dot(nX.T, h - y) / m\n",
    "    \n",
    "    return J, g.reshape(n)"
   ]
  },
  {
   "cell_type": "code",
   "execution_count": 3,
   "metadata": {
    "collapsed": false
   },
   "outputs": [],
   "source": [
    "#load data\n",
    "data = np.loadtxt('ex2data1.txt')\n",
    "X = data[:,0:2]\n",
    "m = np.shape(X)[0]\n",
    "y = data[:,2].reshape((m,1))"
   ]
  },
  {
   "cell_type": "code",
   "execution_count": 4,
   "metadata": {
    "collapsed": false
   },
   "outputs": [],
   "source": [
    "#separate positive an negative examples\n",
    "xpos = np.array([X[i] for i in range(m) if y[i] == 1])\n",
    "xneg = np.array([X[i] for i in range(m) if y[i] == 0])\n",
    "\n",
    "#plot data\n",
    "plt.plot(xpos[:,0], xpos[:,1], 'g+', mew=1, ms=5, label='admitted')\n",
    "plt.plot(xneg[:,0], xneg[:,1], 'r.', mew=1, ms=5, label='rejected')\n",
    "plt.legend(loc='upper right')\n",
    "plt.show()"
   ]
  },
  {
   "cell_type": "code",
   "execution_count": 5,
   "metadata": {
    "collapsed": false
   },
   "outputs": [],
   "source": [
    "#feature normalization\n",
    "mean = np.mean(X, axis=0)\n",
    "s = np.std(X, axis=0)\n",
    "nX = np.array([np.ones((m)), (X[:,0] - mean[0]) / s[0], (X[:,1] - mean[1]) / s[1]]).T"
   ]
  },
  {
   "cell_type": "code",
   "execution_count": 6,
   "metadata": {
    "collapsed": false
   },
   "outputs": [],
   "source": [
    "#compute params of model(theta)\n",
    "initial_theta = np.zeros(np.shape(nX))[1]\n",
    "ans = minimize(cost_function, initial_theta, method='BFGS', jac=True, args=(nX, y))\n",
    "\n",
    "f_theta = ans.x"
   ]
  },
  {
   "cell_type": "code",
   "execution_count": 7,
   "metadata": {
    "collapsed": false
   },
   "outputs": [],
   "source": [
    "#plot decision bounary\n",
    "x1 = np.array([np.max(X[:,0]),np.min(X[:,0])])\n",
    "x1n = (x1 - mean[0]) / s[0]\n",
    "\n",
    "x2n = -(f_theta[0] + np.dot(f_theta[1], x1n)) / f_theta[2]\n",
    "x2 = x2n * s[1] + mean[1] \n",
    "\n",
    "plt.plot(xpos[:,0], xpos[:,1], 'g+', mew=1, ms=5, label='admitted')\n",
    "plt.plot(xneg[:,0], xneg[:,1], 'r.', mew=1, ms=5, label='rejected')\n",
    "plt.plot(x1, x2, label='decision boundary')\n",
    "plt.legend(loc='upper right')\n",
    "plt.show()"
   ]
  }
 ],
 "metadata": {
  "anaconda-cloud": {},
  "kernelspec": {
   "display_name": "Python [tfl]",
   "language": "python",
   "name": "Python [tfl]"
  },
  "language_info": {
   "codemirror_mode": {
    "name": "ipython",
    "version": 3
   },
   "file_extension": ".py",
   "mimetype": "text/x-python",
   "name": "python",
   "nbconvert_exporter": "python",
   "pygments_lexer": "ipython3",
   "version": "3.5.2"
  }
 },
 "nbformat": 4,
 "nbformat_minor": 0
}
